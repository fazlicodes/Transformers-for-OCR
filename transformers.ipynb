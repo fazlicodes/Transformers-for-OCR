{
 "cells": [
  {
   "cell_type": "code",
   "execution_count": 98,
   "id": "d133ac0b",
   "metadata": {},
   "outputs": [],
   "source": [
    "import math\n",
    "from typing import Tuple \n",
    "\n",
    "import torch\n",
    "from torch import nn, Tensor\n",
    "import torch.nn.functional as F\n",
    "from torch.nn import TransformerEncoder, TransformerEncoderLayer\n",
    "from torch.utils.data import dataset"
   ]
  },
  {
   "cell_type": "code",
   "execution_count": 99,
   "id": "0861790f",
   "metadata": {},
   "outputs": [],
   "source": [
    "class PatchEmbedding(nn.Module):\n",
    "    def __init__(self, in_channels: int = 1, img_size: int = 32, patch_size: int = 16, embed_dim: int = 768):\n",
    "        super().__init__()\n",
    "        self.patch_size = patch_size\n",
    "        self.cls_token = nn.Parameter(torch.zeros(1, 1, embed_dim))\n",
    "        self.pos_embed = nn.Parameter(torch.zeros((img_size // patch_size) **2 + 1, embed_dim))\n",
    "        self.proj = nn.Linear(patch_size * patch_size * in_channels, embed_dim)\n",
    "        \n",
    "    def patchify(self, images: Tensor, patch_size: int):\n",
    "        n, h, w = images.shape\n",
    "        assert h == w \n",
    "        n_patches = h // patch_size\n",
    "        patches = torch.zeros(n, n_patches ** 2, patch_size ** 2)\n",
    "#         print(f'patches  size is {patch_size}')\n",
    "        for idx, image in enumerate(images):\n",
    "            for i in range(n_patches):\n",
    "                for j in range(n_patches):\n",
    "                    patch = image[i * patch_size: (i + 1) * patch_size, j * patch_size: (j + 1) * patch_size]\n",
    "#                     print(f'patch shape is: {patch.shape}')\n",
    "#                     print(f'flattened patch shape is: {patch.flatten().shape}')\n",
    "                    patches[idx, i * n_patches + j] = patch.flatten()\n",
    "        return patches\n",
    "        \n",
    "    def forward(self, x: Tensor):\n",
    "        x = self.patchify(x, self.patch_size)\n",
    "#         print(x.shape)\n",
    "        x = self.proj(x)\n",
    "        cls_token = self.cls_token.expand(x.shape[0], -1, -1)\n",
    "        x = torch.cat((cls_token, x), dim=1)\n",
    "        x = x + self.pos_embed\n",
    "        return x"
   ]
  },
  {
   "cell_type": "code",
   "execution_count": 100,
   "id": "7c0d4371",
   "metadata": {},
   "outputs": [],
   "source": [
    "class TransformerModel(nn.Module):\n",
    "    \n",
    "    def __init__(self, d_model: int, nhead: int, d_hid: int,\n",
    "                    nlayers: int, num_tokens: int):\n",
    "        super().__init__()\n",
    "        self.d_model = d_model\n",
    "        self.model_type = 'Transformer'\n",
    "        self.patch_embed = PatchEmbedding()\n",
    "        encoder_layers = TransformerEncoderLayer(d_model, nhead, d_hid)\n",
    "        self.transformer_encoder = TransformerEncoder(encoder_layers, nlayers)\n",
    "        self.out = nn.Linear(d_model, num_tokens)\n",
    "        \n",
    "        self.init_weights()\n",
    "        \n",
    "    def init_weights(self) -> None:\n",
    "        init_range = 0.1\n",
    "#         self.encoder.weight.data.uniform_(-init_range, init_range)\n",
    "        self.out.bias.data.zero_()\n",
    "        self.out.weight.data.uniform_(-init_range, init_range)\n",
    "        \n",
    "    def forward(self, x: Tensor) -> Tensor:\n",
    "        x = self.patch_embed(x)\n",
    "        x = self.transformer_encoder(x)\n",
    "        x = self.out(x)\n",
    "        return x\n",
    "\n",
    "def generate_square_subsequent_mask(sz: int) -> Tensor:\n",
    "    \"\"\"Generates an upper-triangular matrix of -inf, with zeros on diag.\"\"\"\n",
    "    return torch.triu(torch.ones(sz, sz) * float('-inf'), diagonal=1)"
   ]
  },
  {
   "cell_type": "code",
   "execution_count": 101,
   "id": "c8a4c2e2",
   "metadata": {},
   "outputs": [
    {
     "data": {
      "text/plain": [
       "torch.Size([7, 5, 10])"
      ]
     },
     "execution_count": 101,
     "metadata": {},
     "output_type": "execute_result"
    }
   ],
   "source": [
    "model = TransformerModel(768, 8, 8, 1, 10)\n",
    "x = torch.randn(7, 32, 32)\n",
    "model(x).shape"
   ]
  }
 ],
 "metadata": {
  "kernelspec": {
   "display_name": "Python 3 (ipykernel)",
   "language": "python",
   "name": "python3"
  },
  "language_info": {
   "codemirror_mode": {
    "name": "ipython",
    "version": 3
   },
   "file_extension": ".py",
   "mimetype": "text/x-python",
   "name": "python",
   "nbconvert_exporter": "python",
   "pygments_lexer": "ipython3",
   "version": "3.9.7"
  }
 },
 "nbformat": 4,
 "nbformat_minor": 5
}
